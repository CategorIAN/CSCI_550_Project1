{
  "cells": [
    {
      "cell_type": "markdown",
      "metadata": {},
      "source": [
        "# Preliminary Imports"
      ]
    },
    {
      "cell_type": "code",
      "execution_count": 57,
      "metadata": {},
      "outputs": [],
      "source": [
        "import pandas as pd\n",
        "import numpy as np\n",
        "from random import randrange\n",
        "from functools import reduce\n",
        "from tail_recursive import tail_recursive"
      ]
    },
    {
      "cell_type": "markdown",
      "metadata": {
        "id": "_MCfhDcRgYb3"
      },
      "source": [
        "# Checking Out Some Statistics of the Data Set"
      ]
    },
    {
      "cell_type": "code",
      "execution_count": 18,
      "metadata": {
        "id": "j3nK0IAjIvfY"
      },
      "outputs": [],
      "source": [
        "df = pd.read_csv(\"childcare_costs.csv\")\n",
        "df.index.to_series().map(lambda i: df.iloc[i].isna().sum() / len(df.iloc[i])).to_csv(\"nancount.csv\")"
      ]
    },
    {
      "cell_type": "code",
      "execution_count": 20,
      "metadata": {},
      "outputs": [
        {
          "name": "stdout",
          "output_type": "stream",
          "text": [
            "0.042035732933950555\n"
          ]
        }
      ],
      "source": [
        "count = 0\n",
        "for col in df.columns:\n",
        "    count += df[col].isna().sum()\n",
        "print(count / (df.shape[0] * df.shape[1]))\n",
        "    "
      ]
    },
    {
      "cell_type": "markdown",
      "metadata": {
        "id": "jO-ZeW6vcVYI"
      },
      "source": [
        "Grouping the attributes by datatype, we can count the number of attributes for each datatype."
      ]
    },
    {
      "cell_type": "code",
      "execution_count": null,
      "metadata": {
        "id": "lXuyQxI_YTgk"
      },
      "outputs": [],
      "source": [
        "pd.DataFrame(df.dtypes, columns = [\"Type\"]).groupby(by=[\"Type\"])['Type'].count()"
      ]
    },
    {
      "cell_type": "markdown",
      "metadata": {
        "id": "s8CyHcGnGH5Q"
      },
      "source": [
        "# k-Means Clustering Algorithm"
      ]
    },
    {
      "cell_type": "markdown",
      "metadata": {
        "id": "lu7P-b-dpCfr"
      },
      "source": []
    },
    {
      "cell_type": "markdown",
      "metadata": {},
      "source": [
        "## Preliminaries"
      ]
    },
    {
      "cell_type": "markdown",
      "metadata": {
        "id": "Ps5gVmQ2hdE4"
      },
      "source": [
        "I am using a small data set to test on. This data corresponds to soybean data."
      ]
    },
    {
      "cell_type": "code",
      "execution_count": 3,
      "metadata": {},
      "outputs": [],
      "source": [
        "df = pd.read_csv(\"soybean_data.csv\", index_col=0)"
      ]
    },
    {
      "cell_type": "markdown",
      "metadata": {},
      "source": [
        "## Create Distance Matrix Function"
      ]
    },
    {
      "cell_type": "code",
      "execution_count": 8,
      "metadata": {},
      "outputs": [],
      "source": [
        "def distMatrix(df, centroids):\n",
        "    df_mat, cent_mat = df.to_numpy(), centroids.to_numpy()\n",
        "    return np.array([[np.linalg.norm(df_mat[i, :] - cent_mat[j, :]) for j in range(cent_mat.shape[0])] for i in range(df_mat.shape[0])])"
      ]
    },
    {
      "cell_type": "markdown",
      "metadata": {},
      "source": [
        "## Assign New Clusters"
      ]
    },
    {
      "cell_type": "code",
      "execution_count": 31,
      "metadata": {},
      "outputs": [],
      "source": [
        "def cluster(dm):\n",
        "    def f(i):\n",
        "        return reduce(lambda x, y: x if x[0] <= y[0] else y, zip(dm[i, :], range(len(dm[i, :]))))[1]\n",
        "    return f"
      ]
    },
    {
      "cell_type": "markdown",
      "metadata": {},
      "source": [
        "## Bringing It All Together"
      ]
    },
    {
      "cell_type": "code",
      "execution_count": 66,
      "metadata": {},
      "outputs": [],
      "source": [
        "def kmeans(df, k, eps):\n",
        "    @tail_recursive\n",
        "    def go(currentClus, prevClus, r):\n",
        "        print(\"Iteration Number {}\".format(r))\n",
        "        centroids = pd.DataFrame(df.to_dict(orient='series') | {\"Cluster\": currentClus}).groupby(by=[\"Cluster\"]).mean()\n",
        "        if prevClus is not None and ((currentClus != prevClus).sum() / len(currentClus)) < eps:\n",
        "            return centroids\n",
        "        else:\n",
        "            dm = distMatrix(df, centroids)\n",
        "            return go.tail_call(df.index.map(cluster(dm)), currentClus, r + 1)\n",
        "    return go([randrange(k) for i in range(df.shape[0])], None, 0)"
      ]
    },
    {
      "cell_type": "code",
      "execution_count": 67,
      "metadata": {},
      "outputs": [
        {
          "data": {
            "text/html": [
              "<div>\n",
              "<style scoped>\n",
              "    .dataframe tbody tr th:only-of-type {\n",
              "        vertical-align: middle;\n",
              "    }\n",
              "\n",
              "    .dataframe tbody tr th {\n",
              "        vertical-align: top;\n",
              "    }\n",
              "\n",
              "    .dataframe thead th {\n",
              "        text-align: right;\n",
              "    }\n",
              "</style>\n",
              "<table border=\"1\" class=\"dataframe\">\n",
              "  <thead>\n",
              "    <tr style=\"text-align: right;\">\n",
              "      <th></th>\n",
              "      <th>Date</th>\n",
              "      <th>Plant-Stand</th>\n",
              "      <th>Precip</th>\n",
              "      <th>Temp</th>\n",
              "      <th>Hail</th>\n",
              "      <th>Crop-Hist</th>\n",
              "      <th>Area-Damaged</th>\n",
              "      <th>Severity</th>\n",
              "      <th>Seed-TMT</th>\n",
              "      <th>Germination</th>\n",
              "      <th>...</th>\n",
              "      <th>Int-Discolor</th>\n",
              "      <th>Sclerotia</th>\n",
              "      <th>Fruit-Pods</th>\n",
              "      <th>Fruit Spots</th>\n",
              "      <th>Seed</th>\n",
              "      <th>Mold-Growth</th>\n",
              "      <th>Seed-Discolor</th>\n",
              "      <th>Seed-Size</th>\n",
              "      <th>Shriveling</th>\n",
              "      <th>Roots</th>\n",
              "    </tr>\n",
              "    <tr>\n",
              "      <th>Cluster</th>\n",
              "      <th></th>\n",
              "      <th></th>\n",
              "      <th></th>\n",
              "      <th></th>\n",
              "      <th></th>\n",
              "      <th></th>\n",
              "      <th></th>\n",
              "      <th></th>\n",
              "      <th></th>\n",
              "      <th></th>\n",
              "      <th></th>\n",
              "      <th></th>\n",
              "      <th></th>\n",
              "      <th></th>\n",
              "      <th></th>\n",
              "      <th></th>\n",
              "      <th></th>\n",
              "      <th></th>\n",
              "      <th></th>\n",
              "      <th></th>\n",
              "      <th></th>\n",
              "    </tr>\n",
              "  </thead>\n",
              "  <tbody>\n",
              "    <tr>\n",
              "      <th>0</th>\n",
              "      <td>3.000000</td>\n",
              "      <td>0.333333</td>\n",
              "      <td>2.000000</td>\n",
              "      <td>0.333333</td>\n",
              "      <td>1.000000</td>\n",
              "      <td>1.333333</td>\n",
              "      <td>1.000000</td>\n",
              "      <td>2.000000</td>\n",
              "      <td>0.000000</td>\n",
              "      <td>1.666667</td>\n",
              "      <td>...</td>\n",
              "      <td>0.0</td>\n",
              "      <td>0.0</td>\n",
              "      <td>3.0</td>\n",
              "      <td>4.0</td>\n",
              "      <td>0.0</td>\n",
              "      <td>0.0</td>\n",
              "      <td>0.0</td>\n",
              "      <td>0.0</td>\n",
              "      <td>0.0</td>\n",
              "      <td>0.333333</td>\n",
              "    </tr>\n",
              "    <tr>\n",
              "      <th>1</th>\n",
              "      <td>1.083333</td>\n",
              "      <td>1.000000</td>\n",
              "      <td>1.833333</td>\n",
              "      <td>0.375000</td>\n",
              "      <td>0.208333</td>\n",
              "      <td>1.750000</td>\n",
              "      <td>1.083333</td>\n",
              "      <td>1.541667</td>\n",
              "      <td>0.541667</td>\n",
              "      <td>1.083333</td>\n",
              "      <td>...</td>\n",
              "      <td>0.0</td>\n",
              "      <td>0.0</td>\n",
              "      <td>3.0</td>\n",
              "      <td>4.0</td>\n",
              "      <td>0.0</td>\n",
              "      <td>0.0</td>\n",
              "      <td>0.0</td>\n",
              "      <td>0.0</td>\n",
              "      <td>0.0</td>\n",
              "      <td>0.708333</td>\n",
              "    </tr>\n",
              "    <tr>\n",
              "      <th>2</th>\n",
              "      <td>4.500000</td>\n",
              "      <td>0.000000</td>\n",
              "      <td>2.000000</td>\n",
              "      <td>1.000000</td>\n",
              "      <td>0.100000</td>\n",
              "      <td>1.900000</td>\n",
              "      <td>0.300000</td>\n",
              "      <td>1.300000</td>\n",
              "      <td>0.500000</td>\n",
              "      <td>1.300000</td>\n",
              "      <td>...</td>\n",
              "      <td>0.0</td>\n",
              "      <td>0.0</td>\n",
              "      <td>0.0</td>\n",
              "      <td>4.0</td>\n",
              "      <td>0.0</td>\n",
              "      <td>0.0</td>\n",
              "      <td>0.0</td>\n",
              "      <td>0.0</td>\n",
              "      <td>0.0</td>\n",
              "      <td>0.000000</td>\n",
              "    </tr>\n",
              "    <tr>\n",
              "      <th>3</th>\n",
              "      <td>4.700000</td>\n",
              "      <td>0.000000</td>\n",
              "      <td>0.000000</td>\n",
              "      <td>1.600000</td>\n",
              "      <td>0.600000</td>\n",
              "      <td>1.600000</td>\n",
              "      <td>2.500000</td>\n",
              "      <td>1.000000</td>\n",
              "      <td>0.500000</td>\n",
              "      <td>0.900000</td>\n",
              "      <td>...</td>\n",
              "      <td>2.0</td>\n",
              "      <td>1.0</td>\n",
              "      <td>0.0</td>\n",
              "      <td>4.0</td>\n",
              "      <td>0.0</td>\n",
              "      <td>0.0</td>\n",
              "      <td>0.0</td>\n",
              "      <td>0.0</td>\n",
              "      <td>0.0</td>\n",
              "      <td>0.000000</td>\n",
              "    </tr>\n",
              "  </tbody>\n",
              "</table>\n",
              "<p>4 rows × 35 columns</p>\n",
              "</div>"
            ],
            "text/plain": [
              "             Date  Plant-Stand    Precip      Temp      Hail  Crop-Hist  \\\n",
              "Cluster                                                                   \n",
              "0        3.000000     0.333333  2.000000  0.333333  1.000000   1.333333   \n",
              "1        1.083333     1.000000  1.833333  0.375000  0.208333   1.750000   \n",
              "2        4.500000     0.000000  2.000000  1.000000  0.100000   1.900000   \n",
              "3        4.700000     0.000000  0.000000  1.600000  0.600000   1.600000   \n",
              "\n",
              "         Area-Damaged  Severity  Seed-TMT  Germination  ...  Int-Discolor  \\\n",
              "Cluster                                                 ...                 \n",
              "0            1.000000  2.000000  0.000000     1.666667  ...           0.0   \n",
              "1            1.083333  1.541667  0.541667     1.083333  ...           0.0   \n",
              "2            0.300000  1.300000  0.500000     1.300000  ...           0.0   \n",
              "3            2.500000  1.000000  0.500000     0.900000  ...           2.0   \n",
              "\n",
              "         Sclerotia  Fruit-Pods  Fruit Spots  Seed  Mold-Growth  Seed-Discolor  \\\n",
              "Cluster                                                                         \n",
              "0              0.0         3.0          4.0   0.0          0.0            0.0   \n",
              "1              0.0         3.0          4.0   0.0          0.0            0.0   \n",
              "2              0.0         0.0          4.0   0.0          0.0            0.0   \n",
              "3              1.0         0.0          4.0   0.0          0.0            0.0   \n",
              "\n",
              "         Seed-Size  Shriveling     Roots  \n",
              "Cluster                                   \n",
              "0              0.0         0.0  0.333333  \n",
              "1              0.0         0.0  0.708333  \n",
              "2              0.0         0.0  0.000000  \n",
              "3              0.0         0.0  0.000000  \n",
              "\n",
              "[4 rows x 35 columns]"
            ]
          },
          "execution_count": 67,
          "metadata": {},
          "output_type": "execute_result"
        }
      ],
      "source": [
        "kmeans(df, 4, 0.001)"
      ]
    }
  ],
  "metadata": {
    "colab": {
      "provenance": [],
      "toc_visible": true
    },
    "kernelspec": {
      "display_name": "Python 3",
      "name": "python3"
    },
    "language_info": {
      "codemirror_mode": {
        "name": "ipython",
        "version": 3
      },
      "file_extension": ".py",
      "mimetype": "text/x-python",
      "name": "python",
      "nbconvert_exporter": "python",
      "pygments_lexer": "ipython3",
      "version": "3.11.4"
    }
  },
  "nbformat": 4,
  "nbformat_minor": 0
}
