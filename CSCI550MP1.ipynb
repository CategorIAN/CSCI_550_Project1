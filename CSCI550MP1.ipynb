{
  "cells": [
    {
      "cell_type": "markdown",
      "metadata": {
        "tags": [
          "parameters"
        ]
      },
      "source": [
        "# Preliminary Imports"
      ]
    },
    {
      "cell_type": "code",
      "execution_count": 3,
      "metadata": {},
      "outputs": [],
      "source": [
        "import pandas as pd\n",
        "import numpy as np\n",
        "from random import randrange\n",
        "from functools import reduce\n",
        "from tail_recursive import tail_recursive"
      ]
    },
    {
      "cell_type": "markdown",
      "metadata": {},
      "source": [
        "# Part 1: Think About The Data (Chris)"
      ]
    },
    {
      "cell_type": "markdown",
      "metadata": {},
      "source": [
        "## Part 1.1"
      ]
    },
    {
      "cell_type": "markdown",
      "metadata": {},
      "source": [
        "Our dataset offers childcare prices from the year 2008 to 2018 by childcare provider type, age of children, and county characteristics. This data set is of particular interest to us because it provides meaningful insight into how childcare costs have changed over the years and how it was affected by changing governing bodies in the United States. Based on such interpretation, the data set can be an effective tool for present and future parents and policymakers when making a decision that will impact childcare prices."
      ]
    },
    {
      "cell_type": "markdown",
      "metadata": {},
      "source": [
        "## Part 1.2"
      ]
    },
    {
      "cell_type": "markdown",
      "metadata": {},
      "source": [
        "There are a total of 62 numerical attributes and 3 categorical attributes in the data set."
      ]
    },
    {
      "cell_type": "markdown",
      "metadata": {},
      "source": [
        "## Part 1.3"
      ]
    },
    {
      "cell_type": "markdown",
      "metadata": {},
      "source": [
        "There are missing values in our data set, often for specific age groups or entire counties. \n",
        "\n",
        "(Complete tomorrow during the meeting (9/26))\n"
      ]
    },
    {
      "cell_type": "markdown",
      "metadata": {},
      "source": [
        "## Part 1.4"
      ]
    },
    {
      "cell_type": "markdown",
      "metadata": {},
      "source": [
        "We believe that the “unemployment rate of the population aged 20 to 64 years old”, “median household income expressed in 2018 dollars” and “county identifier”will be the most descriptive of the data. This is because we believe that the subgroup of relatively high median household income and low unemployment rate will inevitably be able to afford high-quality childcare, thus leading to purchasing higher-priced childcare. Similarly, subgroups of relatively low median household income and high unemployment rate will lead to lower-priced childcare. For county identifier, we believe that as different states have different policies regarding childcare, this will inevitably lead to subgroups of states / counties with similar policies."
      ]
    },
    {
      "cell_type": "markdown",
      "metadata": {},
      "source": [
        "## Part 1.5"
      ]
    },
    {
      "cell_type": "markdown",
      "metadata": {},
      "source": [
        "We believe that there will be clusters in the data because some of the attributes, like those mentioned in the previous section, are heavy influences of childcare prices, thus we expect there to be clusters of similar groups of those attributes (i.e., unemployment rate)."
      ]
    },
    {
      "cell_type": "markdown",
      "metadata": {},
      "source": [
        "## Part 1.6"
      ]
    },
    {
      "cell_type": "markdown",
      "metadata": {},
      "source": [
        "By finding clusters in the data, we can gain an understanding of the influential attributes that have led to the clusters. This is massively help parents and policymakers to understand how their decisions might affect childcare prices. Furthermore, with new instances, we can have a better understanding of which cluster it will fall into. "
      ]
    },
    {
      "cell_type": "markdown",
      "metadata": {},
      "source": [
        "## Part 1.7"
      ]
    },
    {
      "cell_type": "markdown",
      "metadata": {},
      "source": [
        "(NO IDEA)"
      ]
    },
    {
      "cell_type": "markdown",
      "metadata": {},
      "source": [
        "## Part 1.8"
      ]
    },
    {
      "cell_type": "markdown",
      "metadata": {},
      "source": [
        "This will depend on what type of clustering algorithm we implement. However, in general, we do not expect that the clusters will be of similar size. This is because our dataset contains a large number of numerical attributes. Furthermore, taking the example of county identifier as an example, the number of states / counties that share similar childcare policies will not be evenly distributed, thus leading to clusters of different sizes."
      ]
    },
    {
      "cell_type": "code",
      "execution_count": 9,
      "metadata": {
        "id": "j3nK0IAjIvfY"
      },
      "outputs": [],
      "source": [
        "df = pd.read_csv(\"childcare_costs.csv\")\n",
        "#df.index.to_series().map(lambda i: df.iloc[i].isna().sum() / len(df.iloc[i])).to_csv(\"nancount.csv\")"
      ]
    },
    {
      "cell_type": "code",
      "execution_count": 10,
      "metadata": {},
      "outputs": [
        {
          "data": {
            "text/html": [
              "<div>\n",
              "<style scoped>\n",
              "    .dataframe tbody tr th:only-of-type {\n",
              "        vertical-align: middle;\n",
              "    }\n",
              "\n",
              "    .dataframe tbody tr th {\n",
              "        vertical-align: top;\n",
              "    }\n",
              "\n",
              "    .dataframe thead th {\n",
              "        text-align: right;\n",
              "    }\n",
              "</style>\n",
              "<table border=\"1\" class=\"dataframe\">\n",
              "  <thead>\n",
              "    <tr style=\"text-align: right;\">\n",
              "      <th></th>\n",
              "      <th>county_fips_code</th>\n",
              "      <th>study_year</th>\n",
              "      <th>unr_16</th>\n",
              "      <th>funr_16</th>\n",
              "      <th>munr_16</th>\n",
              "      <th>unr_20to64</th>\n",
              "      <th>funr_20to64</th>\n",
              "      <th>munr_20to64</th>\n",
              "      <th>flfpr_20to64</th>\n",
              "      <th>flfpr_20to64_under6</th>\n",
              "      <th>...</th>\n",
              "      <th>memp_p</th>\n",
              "      <th>femp_p</th>\n",
              "      <th>mcsa</th>\n",
              "      <th>mfccsa</th>\n",
              "      <th>mc_infant</th>\n",
              "      <th>mc_toddler</th>\n",
              "      <th>mc_preschool</th>\n",
              "      <th>mfcc_infant</th>\n",
              "      <th>mfcc_toddler</th>\n",
              "      <th>mfcc_preschool</th>\n",
              "    </tr>\n",
              "  </thead>\n",
              "  <tbody>\n",
              "    <tr>\n",
              "      <th>count</th>\n",
              "      <td>34567.000000</td>\n",
              "      <td>34567.000000</td>\n",
              "      <td>34567.000000</td>\n",
              "      <td>34567.00000</td>\n",
              "      <td>34567.000000</td>\n",
              "      <td>34567.000000</td>\n",
              "      <td>34567.000000</td>\n",
              "      <td>34567.000000</td>\n",
              "      <td>34567.000000</td>\n",
              "      <td>34567.000000</td>\n",
              "      <td>...</td>\n",
              "      <td>34567.000000</td>\n",
              "      <td>34567.000000</td>\n",
              "      <td>23593.000000</td>\n",
              "      <td>23383.000000</td>\n",
              "      <td>23593.000000</td>\n",
              "      <td>23593.000000</td>\n",
              "      <td>23593.000000</td>\n",
              "      <td>23383.000000</td>\n",
              "      <td>23383.000000</td>\n",
              "      <td>23383.000000</td>\n",
              "    </tr>\n",
              "    <tr>\n",
              "      <th>mean</th>\n",
              "      <td>30388.132786</td>\n",
              "      <td>2012.999711</td>\n",
              "      <td>7.465902</td>\n",
              "      <td>7.02902</td>\n",
              "      <td>7.860291</td>\n",
              "      <td>6.900073</td>\n",
              "      <td>6.482007</td>\n",
              "      <td>7.275457</td>\n",
              "      <td>70.086125</td>\n",
              "      <td>68.821409</td>\n",
              "      <td>...</td>\n",
              "      <td>23.456238</td>\n",
              "      <td>7.634403</td>\n",
              "      <td>101.234253</td>\n",
              "      <td>92.523582</td>\n",
              "      <td>146.051770</td>\n",
              "      <td>130.482768</td>\n",
              "      <td>122.232852</td>\n",
              "      <td>113.421657</td>\n",
              "      <td>106.759749</td>\n",
              "      <td>104.189510</td>\n",
              "    </tr>\n",
              "    <tr>\n",
              "      <th>std</th>\n",
              "      <td>15161.015383</td>\n",
              "      <td>3.162232</td>\n",
              "      <td>3.538619</td>\n",
              "      <td>3.56342</td>\n",
              "      <td>4.037657</td>\n",
              "      <td>3.446199</td>\n",
              "      <td>3.477956</td>\n",
              "      <td>3.990758</td>\n",
              "      <td>7.696499</td>\n",
              "      <td>11.758088</td>\n",
              "      <td>...</td>\n",
              "      <td>7.956927</td>\n",
              "      <td>4.501044</td>\n",
              "      <td>34.552888</td>\n",
              "      <td>27.669904</td>\n",
              "      <td>53.698566</td>\n",
              "      <td>43.775370</td>\n",
              "      <td>38.538323</td>\n",
              "      <td>32.819372</td>\n",
              "      <td>29.982431</td>\n",
              "      <td>28.961701</td>\n",
              "    </tr>\n",
              "    <tr>\n",
              "      <th>min</th>\n",
              "      <td>1001.000000</td>\n",
              "      <td>2008.000000</td>\n",
              "      <td>0.000000</td>\n",
              "      <td>0.00000</td>\n",
              "      <td>0.000000</td>\n",
              "      <td>0.000000</td>\n",
              "      <td>0.000000</td>\n",
              "      <td>0.000000</td>\n",
              "      <td>33.600000</td>\n",
              "      <td>0.000000</td>\n",
              "      <td>...</td>\n",
              "      <td>0.000000</td>\n",
              "      <td>0.000000</td>\n",
              "      <td>18.980000</td>\n",
              "      <td>22.000000</td>\n",
              "      <td>27.730000</td>\n",
              "      <td>21.540000</td>\n",
              "      <td>21.540000</td>\n",
              "      <td>43.080000</td>\n",
              "      <td>43.080000</td>\n",
              "      <td>40.030000</td>\n",
              "    </tr>\n",
              "    <tr>\n",
              "      <th>25%</th>\n",
              "      <td>18177.000000</td>\n",
              "      <td>2010.000000</td>\n",
              "      <td>5.100000</td>\n",
              "      <td>4.64000</td>\n",
              "      <td>5.200000</td>\n",
              "      <td>4.600000</td>\n",
              "      <td>4.200000</td>\n",
              "      <td>4.700000</td>\n",
              "      <td>65.100000</td>\n",
              "      <td>62.600000</td>\n",
              "      <td>...</td>\n",
              "      <td>17.610000</td>\n",
              "      <td>4.410000</td>\n",
              "      <td>78.650000</td>\n",
              "      <td>75.000000</td>\n",
              "      <td>108.750000</td>\n",
              "      <td>100.000000</td>\n",
              "      <td>95.880000</td>\n",
              "      <td>90.000000</td>\n",
              "      <td>85.085000</td>\n",
              "      <td>84.255000</td>\n",
              "    </tr>\n",
              "    <tr>\n",
              "      <th>50%</th>\n",
              "      <td>29177.000000</td>\n",
              "      <td>2013.000000</td>\n",
              "      <td>7.050000</td>\n",
              "      <td>6.59000</td>\n",
              "      <td>7.390000</td>\n",
              "      <td>6.500000</td>\n",
              "      <td>6.000000</td>\n",
              "      <td>6.800000</td>\n",
              "      <td>70.600000</td>\n",
              "      <td>69.600000</td>\n",
              "      <td>...</td>\n",
              "      <td>23.400000</td>\n",
              "      <td>6.630000</td>\n",
              "      <td>96.530000</td>\n",
              "      <td>88.180000</td>\n",
              "      <td>134.500000</td>\n",
              "      <td>120.990000</td>\n",
              "      <td>113.990000</td>\n",
              "      <td>106.000000</td>\n",
              "      <td>100.250000</td>\n",
              "      <td>99.650000</td>\n",
              "    </tr>\n",
              "    <tr>\n",
              "      <th>75%</th>\n",
              "      <td>45081.000000</td>\n",
              "      <td>2016.000000</td>\n",
              "      <td>9.350000</td>\n",
              "      <td>8.88000</td>\n",
              "      <td>9.920000</td>\n",
              "      <td>8.700000</td>\n",
              "      <td>8.250000</td>\n",
              "      <td>9.200000</td>\n",
              "      <td>75.500000</td>\n",
              "      <td>76.100000</td>\n",
              "      <td>...</td>\n",
              "      <td>28.930000</td>\n",
              "      <td>9.920000</td>\n",
              "      <td>119.380000</td>\n",
              "      <td>107.500000</td>\n",
              "      <td>166.330000</td>\n",
              "      <td>148.710000</td>\n",
              "      <td>139.300000</td>\n",
              "      <td>129.315000</td>\n",
              "      <td>124.950000</td>\n",
              "      <td>120.200000</td>\n",
              "    </tr>\n",
              "    <tr>\n",
              "      <th>max</th>\n",
              "      <td>56045.000000</td>\n",
              "      <td>2018.000000</td>\n",
              "      <td>36.110000</td>\n",
              "      <td>38.24000</td>\n",
              "      <td>39.740000</td>\n",
              "      <td>33.900000</td>\n",
              "      <td>44.500000</td>\n",
              "      <td>45.500000</td>\n",
              "      <td>100.000000</td>\n",
              "      <td>100.000000</td>\n",
              "      <td>...</td>\n",
              "      <td>87.500000</td>\n",
              "      <td>66.480000</td>\n",
              "      <td>375.400000</td>\n",
              "      <td>308.000000</td>\n",
              "      <td>470.000000</td>\n",
              "      <td>419.000000</td>\n",
              "      <td>385.000000</td>\n",
              "      <td>430.940000</td>\n",
              "      <td>376.320000</td>\n",
              "      <td>331.340000</td>\n",
              "    </tr>\n",
              "  </tbody>\n",
              "</table>\n",
              "<p>8 rows × 61 columns</p>\n",
              "</div>"
            ],
            "text/plain": [
              "       county_fips_code    study_year        unr_16      funr_16  \\\n",
              "count      34567.000000  34567.000000  34567.000000  34567.00000   \n",
              "mean       30388.132786   2012.999711      7.465902      7.02902   \n",
              "std        15161.015383      3.162232      3.538619      3.56342   \n",
              "min         1001.000000   2008.000000      0.000000      0.00000   \n",
              "25%        18177.000000   2010.000000      5.100000      4.64000   \n",
              "50%        29177.000000   2013.000000      7.050000      6.59000   \n",
              "75%        45081.000000   2016.000000      9.350000      8.88000   \n",
              "max        56045.000000   2018.000000     36.110000     38.24000   \n",
              "\n",
              "            munr_16    unr_20to64   funr_20to64   munr_20to64  flfpr_20to64  \\\n",
              "count  34567.000000  34567.000000  34567.000000  34567.000000  34567.000000   \n",
              "mean       7.860291      6.900073      6.482007      7.275457     70.086125   \n",
              "std        4.037657      3.446199      3.477956      3.990758      7.696499   \n",
              "min        0.000000      0.000000      0.000000      0.000000     33.600000   \n",
              "25%        5.200000      4.600000      4.200000      4.700000     65.100000   \n",
              "50%        7.390000      6.500000      6.000000      6.800000     70.600000   \n",
              "75%        9.920000      8.700000      8.250000      9.200000     75.500000   \n",
              "max       39.740000     33.900000     44.500000     45.500000    100.000000   \n",
              "\n",
              "       flfpr_20to64_under6  ...        memp_p        femp_p          mcsa  \\\n",
              "count         34567.000000  ...  34567.000000  34567.000000  23593.000000   \n",
              "mean             68.821409  ...     23.456238      7.634403    101.234253   \n",
              "std              11.758088  ...      7.956927      4.501044     34.552888   \n",
              "min               0.000000  ...      0.000000      0.000000     18.980000   \n",
              "25%              62.600000  ...     17.610000      4.410000     78.650000   \n",
              "50%              69.600000  ...     23.400000      6.630000     96.530000   \n",
              "75%              76.100000  ...     28.930000      9.920000    119.380000   \n",
              "max             100.000000  ...     87.500000     66.480000    375.400000   \n",
              "\n",
              "             mfccsa     mc_infant    mc_toddler  mc_preschool   mfcc_infant  \\\n",
              "count  23383.000000  23593.000000  23593.000000  23593.000000  23383.000000   \n",
              "mean      92.523582    146.051770    130.482768    122.232852    113.421657   \n",
              "std       27.669904     53.698566     43.775370     38.538323     32.819372   \n",
              "min       22.000000     27.730000     21.540000     21.540000     43.080000   \n",
              "25%       75.000000    108.750000    100.000000     95.880000     90.000000   \n",
              "50%       88.180000    134.500000    120.990000    113.990000    106.000000   \n",
              "75%      107.500000    166.330000    148.710000    139.300000    129.315000   \n",
              "max      308.000000    470.000000    419.000000    385.000000    430.940000   \n",
              "\n",
              "       mfcc_toddler  mfcc_preschool  \n",
              "count  23383.000000    23383.000000  \n",
              "mean     106.759749      104.189510  \n",
              "std       29.982431       28.961701  \n",
              "min       43.080000       40.030000  \n",
              "25%       85.085000       84.255000  \n",
              "50%      100.250000       99.650000  \n",
              "75%      124.950000      120.200000  \n",
              "max      376.320000      331.340000  \n",
              "\n",
              "[8 rows x 61 columns]"
            ]
          },
          "execution_count": 10,
          "metadata": {},
          "output_type": "execute_result"
        }
      ],
      "source": [
        "df.describe()"
      ]
    },
    {
      "cell_type": "markdown",
      "metadata": {},
      "source": [
        "# Part 2: Perform Some Explanatory Data Analysis"
      ]
    },
    {
      "cell_type": "markdown",
      "metadata": {},
      "source": [
        "## Part 2.1 (Qasim)"
      ]
    },
    {
      "cell_type": "markdown",
      "metadata": {},
      "source": [
        "## Part 2.2 (Fatima)"
      ]
    },
    {
      "cell_type": "markdown",
      "metadata": {},
      "source": [
        "## Part 2.3 (Fatima)"
      ]
    },
    {
      "cell_type": "markdown",
      "metadata": {},
      "source": [
        "## Part 2.4 (Qasim)"
      ]
    },
    {
      "cell_type": "markdown",
      "metadata": {},
      "source": [
        "## Part 2.5 (Qasim)"
      ]
    },
    {
      "cell_type": "markdown",
      "metadata": {},
      "source": [
        "## Part 2.6 (Qasim)"
      ]
    },
    {
      "cell_type": "markdown",
      "metadata": {},
      "source": [
        "## Part 2.7 (Qasim)"
      ]
    },
    {
      "cell_type": "markdown",
      "metadata": {},
      "source": [
        "## Part 2.8 (Fatima)"
      ]
    },
    {
      "cell_type": "markdown",
      "metadata": {},
      "source": [
        "## Part 2.9 (Qasim)"
      ]
    },
    {
      "cell_type": "markdown",
      "metadata": {},
      "source": [
        "# Part 3: Write Functions For Clustering in Python"
      ]
    },
    {
      "cell_type": "markdown",
      "metadata": {},
      "source": [
        "## Part 3.1: K-Means Algorithm (Ian)"
      ]
    },
    {
      "cell_type": "markdown",
      "metadata": {},
      "source": [
        "### Preliminaries"
      ]
    },
    {
      "cell_type": "markdown",
      "metadata": {
        "id": "Ps5gVmQ2hdE4"
      },
      "source": [
        "I am using a small data set to test on. This data corresponds to soybean data."
      ]
    },
    {
      "cell_type": "code",
      "execution_count": 7,
      "metadata": {},
      "outputs": [],
      "source": [
        "df = pd.read_csv(\"soybean_data.csv\", index_col=0)"
      ]
    },
    {
      "cell_type": "markdown",
      "metadata": {},
      "source": [
        "### Create Distance Matrix Function"
      ]
    },
    {
      "cell_type": "code",
      "execution_count": 2,
      "metadata": {},
      "outputs": [],
      "source": [
        "def distMatrix(df, centroids):\n",
        "    df_mat, cent_mat = df.to_numpy(), centroids.to_numpy()\n",
        "    return np.array([[np.linalg.norm(df_mat[i, :] - cent_mat[j, :]) for j in range(cent_mat.shape[0])] for i in range(df_mat.shape[0])])"
      ]
    },
    {
      "cell_type": "markdown",
      "metadata": {},
      "source": [
        "### Assign New Clusters"
      ]
    },
    {
      "cell_type": "code",
      "execution_count": 4,
      "metadata": {},
      "outputs": [],
      "source": [
        "def cluster(dm):\n",
        "    def f(i):\n",
        "        return reduce(lambda x, y: x if x[0] <= y[0] else y, zip(dm[i, :], range(len(dm[i, :]))))[1]\n",
        "    return f"
      ]
    },
    {
      "cell_type": "markdown",
      "metadata": {},
      "source": [
        "### Bringing It All Together"
      ]
    },
    {
      "cell_type": "code",
      "execution_count": 5,
      "metadata": {},
      "outputs": [],
      "source": [
        "def kmeans(df, k, eps):\n",
        "    @tail_recursive\n",
        "    def go(currentClus, prevClus, r):\n",
        "        print(\"Iteration Number {}\".format(r))\n",
        "        centroids = pd.DataFrame(df.to_dict(orient='series') | {\"Cluster\": currentClus}).groupby(by=[\"Cluster\"]).mean()\n",
        "        if prevClus is not None and ((currentClus != prevClus).sum() / len(currentClus)) < eps:\n",
        "            return centroids\n",
        "        else:\n",
        "            dm = distMatrix(df, centroids)\n",
        "            return go.tail_call(df.index.map(cluster(dm)), currentClus, r + 1)\n",
        "    return go([randrange(k) for i in range(df.shape[0])], None, 0)"
      ]
    },
    {
      "cell_type": "code",
      "execution_count": 8,
      "metadata": {},
      "outputs": [
        {
          "name": "stdout",
          "output_type": "stream",
          "text": [
            "Iteration Number 0\n",
            "Iteration Number 1\n",
            "Iteration Number 2\n",
            "Iteration Number 3\n",
            "Iteration Number 4\n",
            "Iteration Number 5\n"
          ]
        },
        {
          "data": {
            "text/html": [
              "<div>\n",
              "<style scoped>\n",
              "    .dataframe tbody tr th:only-of-type {\n",
              "        vertical-align: middle;\n",
              "    }\n",
              "\n",
              "    .dataframe tbody tr th {\n",
              "        vertical-align: top;\n",
              "    }\n",
              "\n",
              "    .dataframe thead th {\n",
              "        text-align: right;\n",
              "    }\n",
              "</style>\n",
              "<table border=\"1\" class=\"dataframe\">\n",
              "  <thead>\n",
              "    <tr style=\"text-align: right;\">\n",
              "      <th></th>\n",
              "      <th>Date</th>\n",
              "      <th>Plant-Stand</th>\n",
              "      <th>Precip</th>\n",
              "      <th>Temp</th>\n",
              "      <th>Hail</th>\n",
              "      <th>Crop-Hist</th>\n",
              "      <th>Area-Damaged</th>\n",
              "      <th>Severity</th>\n",
              "      <th>Seed-TMT</th>\n",
              "      <th>Germination</th>\n",
              "      <th>...</th>\n",
              "      <th>Int-Discolor</th>\n",
              "      <th>Sclerotia</th>\n",
              "      <th>Fruit-Pods</th>\n",
              "      <th>Fruit Spots</th>\n",
              "      <th>Seed</th>\n",
              "      <th>Mold-Growth</th>\n",
              "      <th>Seed-Discolor</th>\n",
              "      <th>Seed-Size</th>\n",
              "      <th>Shriveling</th>\n",
              "      <th>Roots</th>\n",
              "    </tr>\n",
              "    <tr>\n",
              "      <th>Cluster</th>\n",
              "      <th></th>\n",
              "      <th></th>\n",
              "      <th></th>\n",
              "      <th></th>\n",
              "      <th></th>\n",
              "      <th></th>\n",
              "      <th></th>\n",
              "      <th></th>\n",
              "      <th></th>\n",
              "      <th></th>\n",
              "      <th></th>\n",
              "      <th></th>\n",
              "      <th></th>\n",
              "      <th></th>\n",
              "      <th></th>\n",
              "      <th></th>\n",
              "      <th></th>\n",
              "      <th></th>\n",
              "      <th></th>\n",
              "      <th></th>\n",
              "      <th></th>\n",
              "    </tr>\n",
              "  </thead>\n",
              "  <tbody>\n",
              "    <tr>\n",
              "      <th>0</th>\n",
              "      <td>4.700000</td>\n",
              "      <td>0.000000</td>\n",
              "      <td>0.000000</td>\n",
              "      <td>1.600000</td>\n",
              "      <td>0.600000</td>\n",
              "      <td>1.600000</td>\n",
              "      <td>2.5</td>\n",
              "      <td>1.000000</td>\n",
              "      <td>0.500000</td>\n",
              "      <td>0.900000</td>\n",
              "      <td>...</td>\n",
              "      <td>2.0</td>\n",
              "      <td>1.0</td>\n",
              "      <td>0.0</td>\n",
              "      <td>4.0</td>\n",
              "      <td>0.0</td>\n",
              "      <td>0.0</td>\n",
              "      <td>0.0</td>\n",
              "      <td>0.0</td>\n",
              "      <td>0.0</td>\n",
              "      <td>0.000000</td>\n",
              "    </tr>\n",
              "    <tr>\n",
              "      <th>1</th>\n",
              "      <td>0.800000</td>\n",
              "      <td>1.000000</td>\n",
              "      <td>1.800000</td>\n",
              "      <td>0.600000</td>\n",
              "      <td>0.300000</td>\n",
              "      <td>1.100000</td>\n",
              "      <td>1.2</td>\n",
              "      <td>1.500000</td>\n",
              "      <td>0.500000</td>\n",
              "      <td>0.300000</td>\n",
              "      <td>...</td>\n",
              "      <td>0.0</td>\n",
              "      <td>0.0</td>\n",
              "      <td>3.0</td>\n",
              "      <td>4.0</td>\n",
              "      <td>0.0</td>\n",
              "      <td>0.0</td>\n",
              "      <td>0.0</td>\n",
              "      <td>0.0</td>\n",
              "      <td>0.0</td>\n",
              "      <td>1.000000</td>\n",
              "    </tr>\n",
              "    <tr>\n",
              "      <th>2</th>\n",
              "      <td>4.500000</td>\n",
              "      <td>0.000000</td>\n",
              "      <td>2.000000</td>\n",
              "      <td>1.000000</td>\n",
              "      <td>0.100000</td>\n",
              "      <td>1.900000</td>\n",
              "      <td>0.3</td>\n",
              "      <td>1.300000</td>\n",
              "      <td>0.500000</td>\n",
              "      <td>1.300000</td>\n",
              "      <td>...</td>\n",
              "      <td>0.0</td>\n",
              "      <td>0.0</td>\n",
              "      <td>0.0</td>\n",
              "      <td>4.0</td>\n",
              "      <td>0.0</td>\n",
              "      <td>0.0</td>\n",
              "      <td>0.0</td>\n",
              "      <td>0.0</td>\n",
              "      <td>0.0</td>\n",
              "      <td>0.000000</td>\n",
              "    </tr>\n",
              "    <tr>\n",
              "      <th>3</th>\n",
              "      <td>1.588235</td>\n",
              "      <td>0.882353</td>\n",
              "      <td>1.882353</td>\n",
              "      <td>0.235294</td>\n",
              "      <td>0.294118</td>\n",
              "      <td>2.058824</td>\n",
              "      <td>1.0</td>\n",
              "      <td>1.647059</td>\n",
              "      <td>0.470588</td>\n",
              "      <td>1.647059</td>\n",
              "      <td>...</td>\n",
              "      <td>0.0</td>\n",
              "      <td>0.0</td>\n",
              "      <td>3.0</td>\n",
              "      <td>4.0</td>\n",
              "      <td>0.0</td>\n",
              "      <td>0.0</td>\n",
              "      <td>0.0</td>\n",
              "      <td>0.0</td>\n",
              "      <td>0.0</td>\n",
              "      <td>0.470588</td>\n",
              "    </tr>\n",
              "  </tbody>\n",
              "</table>\n",
              "<p>4 rows × 35 columns</p>\n",
              "</div>"
            ],
            "text/plain": [
              "             Date  Plant-Stand    Precip      Temp      Hail  Crop-Hist  \\\n",
              "Cluster                                                                   \n",
              "0        4.700000     0.000000  0.000000  1.600000  0.600000   1.600000   \n",
              "1        0.800000     1.000000  1.800000  0.600000  0.300000   1.100000   \n",
              "2        4.500000     0.000000  2.000000  1.000000  0.100000   1.900000   \n",
              "3        1.588235     0.882353  1.882353  0.235294  0.294118   2.058824   \n",
              "\n",
              "         Area-Damaged  Severity  Seed-TMT  Germination  ...  Int-Discolor  \\\n",
              "Cluster                                                 ...                 \n",
              "0                 2.5  1.000000  0.500000     0.900000  ...           2.0   \n",
              "1                 1.2  1.500000  0.500000     0.300000  ...           0.0   \n",
              "2                 0.3  1.300000  0.500000     1.300000  ...           0.0   \n",
              "3                 1.0  1.647059  0.470588     1.647059  ...           0.0   \n",
              "\n",
              "         Sclerotia  Fruit-Pods  Fruit Spots  Seed  Mold-Growth  Seed-Discolor  \\\n",
              "Cluster                                                                         \n",
              "0              1.0         0.0          4.0   0.0          0.0            0.0   \n",
              "1              0.0         3.0          4.0   0.0          0.0            0.0   \n",
              "2              0.0         0.0          4.0   0.0          0.0            0.0   \n",
              "3              0.0         3.0          4.0   0.0          0.0            0.0   \n",
              "\n",
              "         Seed-Size  Shriveling     Roots  \n",
              "Cluster                                   \n",
              "0              0.0         0.0  0.000000  \n",
              "1              0.0         0.0  1.000000  \n",
              "2              0.0         0.0  0.000000  \n",
              "3              0.0         0.0  0.470588  \n",
              "\n",
              "[4 rows x 35 columns]"
            ]
          },
          "execution_count": 8,
          "metadata": {},
          "output_type": "execute_result"
        }
      ],
      "source": [
        "kmeans(df, 4, 0.001)"
      ]
    },
    {
      "cell_type": "markdown",
      "metadata": {},
      "source": [
        "## Part 3.2"
      ]
    },
    {
      "cell_type": "markdown",
      "metadata": {},
      "source": [
        "# Part 4: Analyze Your Data"
      ]
    },
    {
      "cell_type": "markdown",
      "metadata": {},
      "source": [
        "## Part 4.1"
      ]
    },
    {
      "cell_type": "markdown",
      "metadata": {},
      "source": [
        "## Part 4.2 (Qasim)"
      ]
    },
    {
      "cell_type": "markdown",
      "metadata": {},
      "source": [
        "## Part 4.3"
      ]
    },
    {
      "cell_type": "markdown",
      "metadata": {},
      "source": [
        "## Part 4.4"
      ]
    }
  ],
  "metadata": {
    "colab": {
      "provenance": [],
      "toc_visible": true
    },
    "kernelspec": {
      "display_name": "Python 3",
      "name": "python3"
    },
    "language_info": {
      "codemirror_mode": {
        "name": "ipython",
        "version": 3
      },
      "file_extension": ".py",
      "mimetype": "text/x-python",
      "name": "python",
      "nbconvert_exporter": "python",
      "pygments_lexer": "ipython3",
      "version": "3.11.4"
    }
  },
  "nbformat": 4,
  "nbformat_minor": 0
}
