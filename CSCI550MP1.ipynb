{
  "cells": [
    {
      "cell_type": "markdown",
      "metadata": {
        "tags": [
          "parameters"
        ]
      },
      "source": [
        "# Preliminary Imports"
      ]
    },
    {
      "cell_type": "code",
      "execution_count": 8,
      "metadata": {},
      "outputs": [],
      "source": [
        "import pandas as pd\n",
        "import numpy as np\n",
        "from random import randrange\n",
        "from functools import reduce\n",
        "from tail_recursive import tail_recursive"
      ]
    },
    {
      "cell_type": "markdown",
      "metadata": {},
      "source": [
        "# Part 1: Think About The Data"
      ]
    },
    {
      "cell_type": "markdown",
      "metadata": {},
      "source": [
        "## Part 1.1"
      ]
    },
    {
      "cell_type": "markdown",
      "metadata": {},
      "source": [
        "Our dataset offers childcare prices from the year 2008 to 2018 by childcare provider type, age of children, and county characteristics. This data set is of particular interest to us because it provides meaningful insight into how childcare costs have changed over the years and how it was affected by changing governing bodies in the United States. Based on such interpretation, the data set can be an effective tool for present and future parents and policymakers when making a decision that will impact childcare prices."
      ]
    },
    {
      "cell_type": "markdown",
      "metadata": {},
      "source": [
        "## Part 1.2"
      ]
    },
    {
      "cell_type": "markdown",
      "metadata": {},
      "source": [
        "There are a total of 62 numerical attributes and 3 categorical attributes in the data set."
      ]
    },
    {
      "cell_type": "markdown",
      "metadata": {},
      "source": [
        "## Part 1.3"
      ]
    },
    {
      "cell_type": "markdown",
      "metadata": {},
      "source": [
        "There are missing values in our data set, often for specific age groups or entire counties. \n",
        "\n",
        "(Complete tomorrow during the meeting (9/26))\n"
      ]
    },
    {
      "cell_type": "markdown",
      "metadata": {},
      "source": [
        "## Part 1.4"
      ]
    },
    {
      "cell_type": "markdown",
      "metadata": {},
      "source": [
        "We believe that the “unemployment rate of the population aged 20 to 64 years old”, “median household income expressed in 2018 dollars” and “county identifier”will be the most descriptive of the data. This is because we believe that the subgroup of relatively high median household income and low unemployment rate will inevitably be able to afford high-quality childcare, thus leading to purchasing higher-priced childcare. Similarly, subgroups of relatively low median household income and high unemployment rate will lead to lower-priced childcare. For county identifier, we believe that as different states have different policies regarding childcare, this will inevitably lead to subgroups of states / counties with similar policies."
      ]
    },
    {
      "cell_type": "markdown",
      "metadata": {},
      "source": [
        "## Part 1.5"
      ]
    },
    {
      "cell_type": "markdown",
      "metadata": {},
      "source": [
        "We believe that there will be clusters in the data because some of the attributes, like those mentioned in the previous section, are heavy influences of childcare prices, thus we expect there to be clusters of similar groups of those attributes (i.e., unemployment rate)."
      ]
    },
    {
      "cell_type": "markdown",
      "metadata": {},
      "source": [
        "## Part 1.6"
      ]
    },
    {
      "cell_type": "markdown",
      "metadata": {},
      "source": [
        "By finding clusters in the data, we can gain an understanding of the influential attributes that have led to the clusters. This is massively help parents and policymakers to understand how their decisions might affect childcare prices. Furthermore, with new instances, we can have a better understanding of which cluster it will fall into. "
      ]
    },
    {
      "cell_type": "markdown",
      "metadata": {},
      "source": [
        "## Part 1.7"
      ]
    },
    {
      "cell_type": "markdown",
      "metadata": {},
      "source": [
        "(NO IDEA)"
      ]
    },
    {
      "cell_type": "markdown",
      "metadata": {},
      "source": [
        "## Part 1.8"
      ]
    },
    {
      "cell_type": "markdown",
      "metadata": {},
      "source": [
        "This will depend on what type of clustering algorithm we implement. However, in general, we do not expect that the clusters will be of similar size. This is because our dataset contains a large number of numerical attributes. Furthermore, taking the example of county identifier as an example, the number of states / counties that share similar childcare policies will not be evenly distributed, thus leading to clusters of different sizes."
      ]
    },
    {
      "cell_type": "code",
      "execution_count": 9,
      "metadata": {
        "id": "j3nK0IAjIvfY"
      },
      "outputs": [],
      "source": [
        "df = pd.read_csv(\"childcare_costs.csv\")\n",
        "df.index.to_series().map(lambda i: df.iloc[i].isna().sum() / len(df.iloc[i])).to_csv(\"nancount.csv\")"
      ]
    },
    {
      "cell_type": "markdown",
      "metadata": {},
      "source": [
        "# Part 2: Perform Some Explanatory Data Analysis"
      ]
    },
    {
      "cell_type": "markdown",
      "metadata": {},
      "source": [
        "## Part 2.1"
      ]
    },
    {
      "cell_type": "code",
      "execution_count": null,
      "metadata": {},
      "outputs": [],
      "source": [
        "import pandas as pd\n",
        "import numpy as np\n",
        "import openpyxl as xls\n"
      ]
    },
    {
      "cell_type": "markdown",
      "metadata": {},
      "source": [
        "## Part 2.2"
      ]
    },
    {
      "cell_type": "markdown",
      "metadata": {},
      "source": [
        "## Part 2.3"
      ]
    },
    {
      "cell_type": "markdown",
      "metadata": {},
      "source": [
        "## Part 2.4"
      ]
    },
    {
      "cell_type": "markdown",
      "metadata": {},
      "source": [
        "## Part 2.5"
      ]
    },
    {
      "cell_type": "markdown",
      "metadata": {},
      "source": [
        "## Part 2.6"
      ]
    },
    {
      "cell_type": "markdown",
      "metadata": {},
      "source": [
        "## Part 2.7"
      ]
    },
    {
      "cell_type": "markdown",
      "metadata": {},
      "source": [
        "## Part 2.8"
      ]
    },
    {
      "cell_type": "markdown",
      "metadata": {},
      "source": [
        "## Part 2.9"
      ]
    },
    {
      "cell_type": "markdown",
      "metadata": {},
      "source": [
        "# Part 3: Write Functions For Clustering in Python"
      ]
    },
    {
      "cell_type": "markdown",
      "metadata": {},
      "source": [
        "## Part 3.1: K-Means Clustering Algorithm"
      ]
    },
    {
      "cell_type": "markdown",
      "metadata": {},
      "source": [
        "### Preliminaries"
      ]
    },
    {
      "cell_type": "markdown",
      "metadata": {
        "id": "Ps5gVmQ2hdE4"
      },
      "source": [
        "I am using a small data set to test on. This data corresponds to soybean data."
      ]
    },
    {
      "cell_type": "code",
      "execution_count": 10,
      "metadata": {},
      "outputs": [],
      "source": [
        "df = pd.read_csv(\"soybean_data.csv\", index_col=0)"
      ]
    },
    {
      "cell_type": "markdown",
      "metadata": {},
      "source": [
        "### Create Distance Matrix Function"
      ]
    },
    {
      "cell_type": "code",
      "execution_count": 11,
      "metadata": {},
      "outputs": [],
      "source": [
        "def distMatrix(df, centroids):\n",
        "    df_mat, cent_mat = df.to_numpy(), centroids.to_numpy()\n",
        "    return np.array([[np.linalg.norm(df_mat[i, :] - cent_mat[j, :]) for j in range(cent_mat.shape[0])] for i in range(df_mat.shape[0])])"
      ]
    },
    {
      "cell_type": "markdown",
      "metadata": {},
      "source": [
        "### Assign New Clusters"
      ]
    },
    {
      "cell_type": "code",
      "execution_count": 12,
      "metadata": {},
      "outputs": [],
      "source": [
        "def cluster(dm):\n",
        "    def f(i):\n",
        "        return reduce(lambda x, y: x if x[0] <= y[0] else y, zip(dm[i, :], range(len(dm[i, :]))))[1]\n",
        "    return f"
      ]
    },
    {
      "cell_type": "markdown",
      "metadata": {},
      "source": [
        "### Bringing It All Together"
      ]
    },
    {
      "cell_type": "code",
      "execution_count": 13,
      "metadata": {},
      "outputs": [],
      "source": [
        "def kmeans(df, k, eps):\n",
        "    @tail_recursive\n",
        "    def go(currentClus, prevClus, r):\n",
        "        print(\"Iteration Number {}\".format(r))\n",
        "        centroids = pd.DataFrame(df.to_dict(orient='series') | {\"Cluster\": currentClus}).groupby(by=[\"Cluster\"]).mean()\n",
        "        if prevClus is not None and ((currentClus != prevClus).sum() / len(currentClus)) < eps:\n",
        "            return centroids\n",
        "        else:\n",
        "            dm = distMatrix(df, centroids)\n",
        "            return go.tail_call(df.index.map(cluster(dm)), currentClus, r + 1)\n",
        "    return go([randrange(k) for i in range(df.shape[0])], None, 0)"
      ]
    },
    {
      "cell_type": "code",
      "execution_count": 14,
      "metadata": {},
      "outputs": [
        {
          "name": "stdout",
          "output_type": "stream",
          "text": [
            "Iteration Number 0\n",
            "Iteration Number 1\n",
            "Iteration Number 2\n",
            "Iteration Number 3\n",
            "Iteration Number 4\n"
          ]
        },
        {
          "data": {
            "text/html": [
              "<div>\n",
              "<style scoped>\n",
              "    .dataframe tbody tr th:only-of-type {\n",
              "        vertical-align: middle;\n",
              "    }\n",
              "\n",
              "    .dataframe tbody tr th {\n",
              "        vertical-align: top;\n",
              "    }\n",
              "\n",
              "    .dataframe thead th {\n",
              "        text-align: right;\n",
              "    }\n",
              "</style>\n",
              "<table border=\"1\" class=\"dataframe\">\n",
              "  <thead>\n",
              "    <tr style=\"text-align: right;\">\n",
              "      <th></th>\n",
              "      <th>Date</th>\n",
              "      <th>Plant-Stand</th>\n",
              "      <th>Precip</th>\n",
              "      <th>Temp</th>\n",
              "      <th>Hail</th>\n",
              "      <th>Crop-Hist</th>\n",
              "      <th>Area-Damaged</th>\n",
              "      <th>Severity</th>\n",
              "      <th>Seed-TMT</th>\n",
              "      <th>Germination</th>\n",
              "      <th>...</th>\n",
              "      <th>Int-Discolor</th>\n",
              "      <th>Sclerotia</th>\n",
              "      <th>Fruit-Pods</th>\n",
              "      <th>Fruit Spots</th>\n",
              "      <th>Seed</th>\n",
              "      <th>Mold-Growth</th>\n",
              "      <th>Seed-Discolor</th>\n",
              "      <th>Seed-Size</th>\n",
              "      <th>Shriveling</th>\n",
              "      <th>Roots</th>\n",
              "    </tr>\n",
              "    <tr>\n",
              "      <th>Cluster</th>\n",
              "      <th></th>\n",
              "      <th></th>\n",
              "      <th></th>\n",
              "      <th></th>\n",
              "      <th></th>\n",
              "      <th></th>\n",
              "      <th></th>\n",
              "      <th></th>\n",
              "      <th></th>\n",
              "      <th></th>\n",
              "      <th></th>\n",
              "      <th></th>\n",
              "      <th></th>\n",
              "      <th></th>\n",
              "      <th></th>\n",
              "      <th></th>\n",
              "      <th></th>\n",
              "      <th></th>\n",
              "      <th></th>\n",
              "      <th></th>\n",
              "      <th></th>\n",
              "    </tr>\n",
              "  </thead>\n",
              "  <tbody>\n",
              "    <tr>\n",
              "      <th>0</th>\n",
              "      <td>0.400000</td>\n",
              "      <td>1.000000</td>\n",
              "      <td>1.866667</td>\n",
              "      <td>0.533333</td>\n",
              "      <td>0.266667</td>\n",
              "      <td>1.333333</td>\n",
              "      <td>1.133333</td>\n",
              "      <td>1.400000</td>\n",
              "      <td>0.533333</td>\n",
              "      <td>0.800000</td>\n",
              "      <td>...</td>\n",
              "      <td>0.0</td>\n",
              "      <td>0.0</td>\n",
              "      <td>3.0</td>\n",
              "      <td>4.0</td>\n",
              "      <td>0.0</td>\n",
              "      <td>0.0</td>\n",
              "      <td>0.0</td>\n",
              "      <td>0.0</td>\n",
              "      <td>0.0</td>\n",
              "      <td>0.733333</td>\n",
              "    </tr>\n",
              "    <tr>\n",
              "      <th>1</th>\n",
              "      <td>4.700000</td>\n",
              "      <td>0.000000</td>\n",
              "      <td>0.000000</td>\n",
              "      <td>1.600000</td>\n",
              "      <td>0.600000</td>\n",
              "      <td>1.600000</td>\n",
              "      <td>2.500000</td>\n",
              "      <td>1.000000</td>\n",
              "      <td>0.500000</td>\n",
              "      <td>0.900000</td>\n",
              "      <td>...</td>\n",
              "      <td>2.0</td>\n",
              "      <td>1.0</td>\n",
              "      <td>0.0</td>\n",
              "      <td>4.0</td>\n",
              "      <td>0.0</td>\n",
              "      <td>0.0</td>\n",
              "      <td>0.0</td>\n",
              "      <td>0.0</td>\n",
              "      <td>0.0</td>\n",
              "      <td>0.000000</td>\n",
              "    </tr>\n",
              "    <tr>\n",
              "      <th>2</th>\n",
              "      <td>4.500000</td>\n",
              "      <td>0.000000</td>\n",
              "      <td>2.000000</td>\n",
              "      <td>1.000000</td>\n",
              "      <td>0.100000</td>\n",
              "      <td>1.900000</td>\n",
              "      <td>0.300000</td>\n",
              "      <td>1.300000</td>\n",
              "      <td>0.500000</td>\n",
              "      <td>1.300000</td>\n",
              "      <td>...</td>\n",
              "      <td>0.0</td>\n",
              "      <td>0.0</td>\n",
              "      <td>0.0</td>\n",
              "      <td>4.0</td>\n",
              "      <td>0.0</td>\n",
              "      <td>0.0</td>\n",
              "      <td>0.0</td>\n",
              "      <td>0.0</td>\n",
              "      <td>0.0</td>\n",
              "      <td>0.000000</td>\n",
              "    </tr>\n",
              "    <tr>\n",
              "      <th>3</th>\n",
              "      <td>2.416667</td>\n",
              "      <td>0.833333</td>\n",
              "      <td>1.833333</td>\n",
              "      <td>0.166667</td>\n",
              "      <td>0.333333</td>\n",
              "      <td>2.166667</td>\n",
              "      <td>1.000000</td>\n",
              "      <td>1.833333</td>\n",
              "      <td>0.416667</td>\n",
              "      <td>1.583333</td>\n",
              "      <td>...</td>\n",
              "      <td>0.0</td>\n",
              "      <td>0.0</td>\n",
              "      <td>3.0</td>\n",
              "      <td>4.0</td>\n",
              "      <td>0.0</td>\n",
              "      <td>0.0</td>\n",
              "      <td>0.0</td>\n",
              "      <td>0.0</td>\n",
              "      <td>0.0</td>\n",
              "      <td>0.583333</td>\n",
              "    </tr>\n",
              "  </tbody>\n",
              "</table>\n",
              "<p>4 rows × 35 columns</p>\n",
              "</div>"
            ],
            "text/plain": [
              "             Date  Plant-Stand    Precip      Temp      Hail  Crop-Hist  \\\n",
              "Cluster                                                                   \n",
              "0        0.400000     1.000000  1.866667  0.533333  0.266667   1.333333   \n",
              "1        4.700000     0.000000  0.000000  1.600000  0.600000   1.600000   \n",
              "2        4.500000     0.000000  2.000000  1.000000  0.100000   1.900000   \n",
              "3        2.416667     0.833333  1.833333  0.166667  0.333333   2.166667   \n",
              "\n",
              "         Area-Damaged  Severity  Seed-TMT  Germination  ...  Int-Discolor  \\\n",
              "Cluster                                                 ...                 \n",
              "0            1.133333  1.400000  0.533333     0.800000  ...           0.0   \n",
              "1            2.500000  1.000000  0.500000     0.900000  ...           2.0   \n",
              "2            0.300000  1.300000  0.500000     1.300000  ...           0.0   \n",
              "3            1.000000  1.833333  0.416667     1.583333  ...           0.0   \n",
              "\n",
              "         Sclerotia  Fruit-Pods  Fruit Spots  Seed  Mold-Growth  Seed-Discolor  \\\n",
              "Cluster                                                                         \n",
              "0              0.0         3.0          4.0   0.0          0.0            0.0   \n",
              "1              1.0         0.0          4.0   0.0          0.0            0.0   \n",
              "2              0.0         0.0          4.0   0.0          0.0            0.0   \n",
              "3              0.0         3.0          4.0   0.0          0.0            0.0   \n",
              "\n",
              "         Seed-Size  Shriveling     Roots  \n",
              "Cluster                                   \n",
              "0              0.0         0.0  0.733333  \n",
              "1              0.0         0.0  0.000000  \n",
              "2              0.0         0.0  0.000000  \n",
              "3              0.0         0.0  0.583333  \n",
              "\n",
              "[4 rows x 35 columns]"
            ]
          },
          "execution_count": 14,
          "metadata": {},
          "output_type": "execute_result"
        }
      ],
      "source": [
        "kmeans(df, 4, 0.001)"
      ]
    },
    {
      "cell_type": "markdown",
      "metadata": {},
      "source": [
        "## Part 3.2"
      ]
    },
    {
      "cell_type": "markdown",
      "metadata": {},
      "source": [
        "# Part 4: Analyze Your Data"
      ]
    },
    {
      "cell_type": "markdown",
      "metadata": {},
      "source": [
        "## Part 4.1"
      ]
    },
    {
      "cell_type": "markdown",
      "metadata": {},
      "source": [
        "## Part 4.2"
      ]
    },
    {
      "cell_type": "markdown",
      "metadata": {},
      "source": [
        "## Part 4.3"
      ]
    },
    {
      "cell_type": "markdown",
      "metadata": {},
      "source": [
        "## Part 4.4"
      ]
    }
  ],
  "metadata": {
    "colab": {
      "provenance": [],
      "toc_visible": true
    },
    "kernelspec": {
      "display_name": "Python 3",
      "name": "python3"
    },
    "language_info": {
      "codemirror_mode": {
        "name": "ipython",
        "version": 3
      },
      "file_extension": ".py",
      "mimetype": "text/x-python",
      "name": "python",
      "nbconvert_exporter": "python",
      "pygments_lexer": "ipython3",
      "version": "3.11.4"
    }
  },
  "nbformat": 4,
  "nbformat_minor": 0
}
