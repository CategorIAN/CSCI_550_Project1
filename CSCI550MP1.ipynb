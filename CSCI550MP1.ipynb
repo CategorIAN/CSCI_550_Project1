{
  "cells": [
    {
      "cell_type": "markdown",
      "metadata": {},
      "source": [
        "# Preliminary Imports"
      ]
    },
    {
      "cell_type": "code",
      "execution_count": 24,
      "metadata": {},
      "outputs": [],
      "source": [
        "import pandas as pd\n",
        "import numpy as np\n",
        "from random import randrange\n",
        "from itertools import product"
      ]
    },
    {
      "cell_type": "markdown",
      "metadata": {
        "id": "_MCfhDcRgYb3"
      },
      "source": [
        "# Checking Out Some Statistics of the Data Set"
      ]
    },
    {
      "cell_type": "code",
      "execution_count": 18,
      "metadata": {
        "id": "j3nK0IAjIvfY"
      },
      "outputs": [],
      "source": [
        "df = pd.read_csv(\"childcare_costs.csv\")\n",
        "df.index.to_series().map(lambda i: df.iloc[i].isna().sum() / len(df.iloc[i])).to_csv(\"nancount.csv\")"
      ]
    },
    {
      "cell_type": "code",
      "execution_count": 20,
      "metadata": {},
      "outputs": [
        {
          "name": "stdout",
          "output_type": "stream",
          "text": [
            "0.042035732933950555\n"
          ]
        }
      ],
      "source": [
        "count = 0\n",
        "for col in df.columns:\n",
        "    count += df[col].isna().sum()\n",
        "print(count / (df.shape[0] * df.shape[1]))\n",
        "    "
      ]
    },
    {
      "cell_type": "markdown",
      "metadata": {
        "id": "jO-ZeW6vcVYI"
      },
      "source": [
        "Grouping the attributes by datatype, we can count the number of attributes for each datatype."
      ]
    },
    {
      "cell_type": "code",
      "execution_count": null,
      "metadata": {
        "id": "lXuyQxI_YTgk"
      },
      "outputs": [],
      "source": [
        "pd.DataFrame(df.dtypes, columns = [\"Type\"]).groupby(by=[\"Type\"])['Type'].count()"
      ]
    },
    {
      "cell_type": "markdown",
      "metadata": {
        "id": "s8CyHcGnGH5Q"
      },
      "source": [
        "# k-Means Clustering Algorithm"
      ]
    },
    {
      "cell_type": "markdown",
      "metadata": {
        "id": "lu7P-b-dpCfr"
      },
      "source": []
    },
    {
      "cell_type": "markdown",
      "metadata": {},
      "source": [
        "## Preliminaries"
      ]
    },
    {
      "cell_type": "markdown",
      "metadata": {
        "id": "Ps5gVmQ2hdE4"
      },
      "source": [
        "I am using a small data set to test on. This data corresponds to soybean data."
      ]
    },
    {
      "cell_type": "code",
      "execution_count": 2,
      "metadata": {},
      "outputs": [],
      "source": [
        "df = pd.read_csv(\"soybean_data.csv\", index_col=0)"
      ]
    },
    {
      "cell_type": "markdown",
      "metadata": {},
      "source": [
        "## Adding Clusters"
      ]
    },
    {
      "cell_type": "code",
      "execution_count": 3,
      "metadata": {
        "id": "-nqOQgIjkB3f"
      },
      "outputs": [],
      "source": [
        "def addClusters(df, k):\n",
        "  new_df = pd.DataFrame(df.to_dict(orient='series') | {\"Cluster\": [randrange(k) for i in range(df.shape[0])]})\n",
        "  return new_df"
      ]
    },
    {
      "cell_type": "code",
      "execution_count": 4,
      "metadata": {
        "id": "PImT25k8pEMd"
      },
      "outputs": [],
      "source": [
        "#Test addClusters\n",
        "df_1 = addClusters(df, 4)\n",
        "# new_df.to_csv(\"WithClusters.csv\")"
      ]
    },
    {
      "cell_type": "markdown",
      "metadata": {},
      "source": [
        "## Find Centroids"
      ]
    },
    {
      "cell_type": "code",
      "execution_count": 5,
      "metadata": {},
      "outputs": [],
      "source": [
        "def centroids(df):\n",
        "    return df.groupby(by=[\"Cluster\"]).mean()"
      ]
    },
    {
      "cell_type": "code",
      "execution_count": 6,
      "metadata": {},
      "outputs": [
        {
          "name": "stdout",
          "output_type": "stream",
          "text": [
            "             Date  Plant-Stand    Precip      Temp      Hail  Crop-Hist  \\\n",
            "Cluster                                                                   \n",
            "0        2.230769     0.538462  1.461538  0.538462  0.153846   1.230769   \n",
            "1        3.111111     0.555556  1.555556  0.777778  0.111111   1.555556   \n",
            "2        2.833333     0.500000  1.500000  1.000000  0.666667   2.166667   \n",
            "3        2.769231     0.538462  1.461538  0.769231  0.307692   1.923077   \n",
            "\n",
            "         Area-Damaged  Severity  Seed-TMT  Germination  ...  Int-Discolor  \\\n",
            "Cluster                                                 ...                 \n",
            "0            1.153846  1.461538  0.538462     1.000000  ...      0.461538   \n",
            "1            0.777778  1.555556  0.666667     1.222222  ...      0.222222   \n",
            "2            1.583333  1.250000  0.416667     1.250000  ...      0.500000   \n",
            "3            1.230769  1.384615  0.384615     1.076923  ...      0.461538   \n",
            "\n",
            "         Sclerotia  Fruit-Pods  Fruit Spots  Seed  Mold-Growth  Seed-Discolor  \\\n",
            "Cluster                                                                         \n",
            "0         0.230769    1.846154          4.0   0.0          0.0            0.0   \n",
            "1         0.111111    1.666667          4.0   0.0          0.0            0.0   \n",
            "2         0.250000    1.750000          4.0   0.0          0.0            0.0   \n",
            "3         0.230769    1.615385          4.0   0.0          0.0            0.0   \n",
            "\n",
            "         Seed-Size  Shriveling     Roots  \n",
            "Cluster                                   \n",
            "0              0.0         0.0  0.230769  \n",
            "1              0.0         0.0  0.555556  \n",
            "2              0.0         0.0  0.500000  \n",
            "3              0.0         0.0  0.307692  \n",
            "\n",
            "[4 rows x 35 columns]\n"
          ]
        }
      ],
      "source": [
        "df_2 = centroids(df_1)\n",
        "print(df_2.head())"
      ]
    },
    {
      "cell_type": "markdown",
      "metadata": {},
      "source": [
        "## Distance Matrix"
      ]
    },
    {
      "cell_type": "code",
      "execution_count": 49,
      "metadata": {},
      "outputs": [],
      "source": [
        "def distMatrix(df, cluster_df):\n",
        "    df_mat, clus_mat = df.to_numpy(), cluster_df.to_numpy()\n",
        "    return np.array([[np.linalg.norm(df_mat[i, :] - clus_mat[j, :]) for j in range(clus_mat.shape[0])] for i in range(df_mat.shape[0])])"
      ]
    },
    {
      "cell_type": "code",
      "execution_count": 50,
      "metadata": {},
      "outputs": [
        {
          "name": "stdout",
          "output_type": "stream",
          "text": [
            "[[4.01844858 3.14466038 3.86400771 3.64797099]\n",
            " [4.97627507 4.01386486 4.35092583 4.23356551]\n",
            " [3.83228268 3.09120617 3.94933187 3.53009043]\n",
            " [5.10597747 4.24264069 4.78858597 4.574175  ]\n",
            " [4.3138692  3.2829526  3.88551441 3.66899693]\n",
            " [4.61538462 3.65148372 4.31244968 4.03827838]\n",
            " [3.77158482 3.23178657 3.59590817 3.28165062]\n",
            " [3.89203404 3.19722102 4.17499168 3.76215977]\n",
            " [5.34158632 4.18993503 4.78858597 4.64095481]\n",
            " [5.15097509 4.0824829  4.89188671 4.67398693]\n",
            " [5.85020103 5.79271573 5.48609353 5.56085218]\n",
            " [4.51427715 4.71404521 4.05346217 4.22447084]\n",
            " [5.2690904  5.07718207 4.46436508 4.69041576]\n",
            " [5.97380871 5.8214164  5.18946583 5.42784842]\n",
            " [4.33166407 4.77260702 4.29308229 4.37651073]\n",
            " [4.62371044 4.91030662 4.19490432 4.39405192]\n",
            " [3.96060482 4.45969605 3.99131    3.95163063]\n",
            " [5.17332713 5.06622805 4.37003687 4.63265998]\n",
            " [5.81723617 5.72518801 5.37871319 5.49825147]\n",
            " [5.57413724 5.44671155 4.64728116 5.01536102]\n",
            " [3.11229667 4.2031734  4.17499168 3.81293346]\n",
            " [2.7021797  3.19722102 2.98840351 2.66024869]\n",
            " [2.52560849 3.16227766 3.01616018 2.68900897]\n",
            " [3.38461538 4.39696865 4.52001721 4.18789464]\n",
            " [3.08748188 4.06885187 3.90690272 3.60555128]\n",
            " [3.4409645  3.54338194 3.70997155 3.51917823]\n",
            " [2.99901364 3.43187671 3.20373046 2.93519754]\n",
            " [3.32731212 4.35889894 4.44565956 4.10440664]\n",
            " [3.18558142 3.44802681 2.98840351 2.81479607]\n",
            " [3.17348482 4.13655788 4.19490432 3.86303986]\n",
            " [3.0999141  2.86744176 2.60074776 2.85549403]\n",
            " [3.17348482 4.02768199 3.90690272 3.78255103]\n",
            " [2.55588427 2.3570226  3.04366373 2.85549403]\n",
            " [2.43252128 2.78886676 2.63259483 2.68900897]\n",
            " [3.23351532 3.31662479 3.22963706 3.31662479]\n",
            " [2.80004227 3.17979734 3.66477224 3.51917823]\n",
            " [3.63659897 4.22952585 3.82063113 3.83305462]\n",
            " [2.31920207 2.84800125 3.07092096 2.8419928 ]\n",
            " [2.46394114 2.         2.53585401 2.48069469]\n",
            " [2.64463284 2.1602469  2.63259483 2.63117406]\n",
            " [3.28074894 4.14996653 3.84238063 3.79270555]\n",
            " [3.20963785 3.63623737 2.93210201 3.07596139]\n",
            " [2.98616138 3.48010217 3.99131    3.75192258]\n",
            " [3.29245147 3.74165739 3.07092096 3.3968311 ]\n",
            " [2.89459811 3.01846171 2.78637558 2.82842712]\n",
            " [3.57257801 4.09606858 3.82063113 3.81293346]\n",
            " [3.63659897 4.12310563 3.68744115 3.79270555]]\n"
          ]
        }
      ],
      "source": [
        "print(distMatrix(df, df_2))"
      ]
    }
  ],
  "metadata": {
    "colab": {
      "provenance": [],
      "toc_visible": true
    },
    "kernelspec": {
      "display_name": "Python 3",
      "name": "python3"
    },
    "language_info": {
      "codemirror_mode": {
        "name": "ipython",
        "version": 3
      },
      "file_extension": ".py",
      "mimetype": "text/x-python",
      "name": "python",
      "nbconvert_exporter": "python",
      "pygments_lexer": "ipython3",
      "version": "3.11.4"
    }
  },
  "nbformat": 4,
  "nbformat_minor": 0
}
